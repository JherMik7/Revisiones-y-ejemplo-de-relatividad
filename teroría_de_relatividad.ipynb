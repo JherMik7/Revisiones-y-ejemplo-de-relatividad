{
 "cells": [
  {
   "cell_type": "markdown",
   "metadata": {},
   "source": [
    "<div align=\"center\">\n",
    "    <h1> <em>Revisión de: Soluciones estáticas de las ecuaciones de campo de Einstein para esferas de fluido. (RICHARD C. TOLMAN)</h1>\n",
    "</div>"
   ]
  },
  {
   "cell_type": "markdown",
   "metadata": {},
   "source": [
    "LA FORMA GENERAL DE LA SOLUCIÓN PARA UNA DISTRIBUCIÓN DE EQUILIBRIO DE FLUIDO\n",
    "\n",
    "Para simplificar, se eligen unidades que hacen que la velocidad de la luz y la constante de la gravedad sean iguales a la unidad, las ecuaciones de campo de Einstein (que relacionan la distribución de materia y energía, descritas por los componentes del tensor de energía-momento $(T_{\\mu\\nu})$, con el campo gravitacional resultante, descrito por los potenciales $(g_{\\mu\\nu})$ pueden ser escritas en la forma\n",
    "\\begin{equation}\n",
    " -8 \\pi T_{\\mu\\nu} = R_{\\mu \\nu}-\\dfrac{1}{2}R g_{\\mu \\nu} + \\Lambda g_{\\mu \\nu}\n",
    "\\end{equation}\n",
    "\n",
    "El autor considera unidades donde la velocidad de la luz y la constante de gravedad son iguales a la unidad. El artículo se enfoca en cómo estas ecuaciones pueden ser escritas en una forma específica y aborda cómo se conectan los componentes del tensor de energía-momento con los potenciales que describen el campo gravitacional.\n",
    "Donde $\\Lambda$ es la constante cosmológica y $T_{\\mu\\nu}$ es el tensor contraido de Christoffel-Riemman y su traza $R$ son funciones conocidas de los potenciales $g_{\\mu \\nu}$ y de la primera y segunda derivada con respecto a las coordenadas tipo espacio y tipo tiempo $x^1 \\cdots x^4$ \n",
    "\n",
    "\n",
    "Las ecuaciones que relacionan $(R_{\\mu\\nu})$ y $(R)$ con $(g_{\\mu\\nu})$ y sus derivadas son complicadas y no lineales, lo que hace que sea difícil encontrar soluciones precisas y explícitas para estas ecuaciones en forma general. Además, las soluciones especiales también son difíciles de obtener en una forma analítica explícita. La complejidad se acentúa debido a que las ecuaciones son no lineales, lo que significa que no se pueden construir nuevas soluciones simplemente superponiendo soluciones ya obtenidas, como podría hacerse en algunos casos más simples y lineales.\n",
    "\n",
    "Al buscar soluciones a las ecuaciones del campo, se puede simplificar el problema desde el principio. Primero, dado que se busca una distribución de equilibrio de un fluido, se pueden aplicar simplificaciones adicionales. Se menciona que, debido a razones físicas, la condición de equilibrio gravitacional para un fluido requerirá una distribución estática y esféricamente simétrica de materia.\n",
    "\n",
    "Luego, se dice que se pueden elegir coordenadas $r$, $θ$, $ϕ$ (coordenadas espaciales) y $t$ (coordenada temporal) para describir esta solución en un sistema de coordenadas que refleje la simetría esférica y el carácter estático de la distribución. En esencia, estas elecciones de coordenadas permitirán simplificar las ecuaciones y facilitar el proceso de encontrar soluciones.\n",
    "\n",
    "En primer lugar, dado que la condición de equilibrio gravitacional para un fluido será, por razones físicas, una distribución estática y esféricamente simétrica de materia, podemos comenzar eligiendo coordenadas de tipo espacio $r$, $\\theta$ y $\\phi$, y una coordenada de tipo tiempo $t$, de tal manera que la solución esté descrita por la forma simple del elemento de línea.\n",
    "\n",
    "\\begin{equation}\n",
    "ds^2 = -e^{\\lambda}dr^2-r^2 d \\theta ^2 -r^2 sen ^2 \\theta d \\phi ^2 +e^{\\nu} dt^2\n",
    "\\end{equation}\n",
    "\n",
    "El tensor métrico $g_{\\mu\\nu}$ se puede expresar en términos del elemento de línea $ds^2$ como:\n",
    "\n",
    "$$\n",
    "g_{\\mu\\nu} = \n",
    "\\begin{pmatrix}\n",
    "-e^{\\lambda} & 0 & 0 & 0 \\\\\n",
    "0 & -r^2 & 0 & 0 \\\\\n",
    "0 & 0 & -r^2 \\sin^2 \\theta & 0 \\\\\n",
    "0 & 0 & 0 & e^{\\nu}\n",
    "\\end{pmatrix}\n",
    "$$\n",
    "\n",
    "Con $\\mu$ y $\\nu$ funciones solo de $r$, como se sabe que es posible en el caso de cualquier distribución estática y esféricamente simétrica de materia. \n",
    "\n",
    "\n",
    "\n",
    "Una vez que tenemos el tensor métrico $g_{\\mu\\nu}$, podemos calcular los símbolos de Christoffel $\\Gamma^\\alpha_{\\beta\\gamma}$, que están definidos por la relación:\n",
    "\n",
    "$$\\Gamma^\\alpha_{\\beta\\gamma} = \\frac{1}{2} g^{\\alpha\\sigma} \\left( g_{\\sigma\\beta,\\gamma} + g_{\\sigma\\gamma,\\beta} - g_{\\beta\\gamma,\\sigma} \\right) $$\n",
    "\n",
    "Donde las comas representan derivadas parciales, esencialmente involucra calcular las derivadas parciales de las funciones métricas.\n",
    "Una vez que tenemos los símbolos de Christoffel, podemos calcular el tensor de Riemann $R^\\alpha_{\\beta\\gamma\\delta}$, que se define como:\n",
    "\n",
    "$$ R^\\alpha_{\\beta\\gamma\\delta} = \\Gamma^\\alpha_{\\beta\\delta,\\gamma} - \\Gamma^\\alpha_{\\beta\\gamma,\\delta} + \\Gamma^\\alpha_{\\sigma\\gamma} \\Gamma^\\sigma_{\\beta\\delta} - \\Gamma^\\alpha_{\\sigma\\delta} \\Gamma^\\sigma_{\\beta\\gamma} $$\n",
    "\n",
    "Este tensor captura la curvatura del espacio-tiempo y también implica calcular derivadas parciales y combinar términos derivativos y de conexión.\n",
    "\n",
    "A partir del tensor de Riemann, podemos calcular el tensor de Ricci $R_{\\mu\\nu}$ contraído mediante la siguiente relación:\n",
    "\n",
    "$$R_{\\mu\\nu} = R^\\alpha_{\\mu\\alpha\\nu}$$\n",
    "\n",
    "Y finalmente, el escalar de curvatura $R$ es la contracción del tensor de Ricci:\n",
    "\n",
    "$$R = g^{\\mu\\nu} R_{\\mu\\nu} $$\n",
    "\n",
    "Con todas estas derivaciones y contracciones en su lugar, se obtienen las ecuaciones de campo de Einstein. Las derivadas con respecto a $r$ están indicadas con acentos para denotar que son derivadas parciales con respecto a esta coordenada radial en el sistema de coordenadas esféricas y estáticas elegido.\n",
    "\n",
    "\n",
    "\n",
    "\\begin{align}\n",
    "8 \\pi T_1 ^1 &= -e^{\\lambda}\\left( \\dfrac{\\nu^{\\prime}}{r} + \\dfrac{1}{r^2} \\right ) + \\dfrac{1}{r^2}-\\Lambda \\\\ \n",
    "8\\pi T_2 ^2 = 8\\pi T_3 ^3 &= -e^{\\lambda}\\left( \\dfrac{\\nu^{\\prime \\prime}}{2} - \\dfrac{\\lambda^{\\prime} \\nu^{\\prime}}{4} +\\dfrac{\\nu^{\\prime 2}}{4}+\\dfrac{\\nu^{\\prime}-\\lambda ^{\\prime}}{2r} \\right ) -\\Lambda \\\\\n",
    "8\\pi T_4 ^4 &= e^{-\\lambda}\\left( \\dfrac{\\lambda^\\prime}{r}-\\dfrac{1}{r^2} \\right)+\\dfrac{1}{r^2}-\\Lambda\n",
    "\\end{align}\n",
    "\n",
    "donde la derivada con respecto a $r$ son indicadas con acentos.\n",
    "\n"
   ]
  },
  {
   "cell_type": "code",
   "execution_count": 26,
   "metadata": {},
   "outputs": [],
   "source": [
    "import sympy\n",
    "from einsteinpy.symbolic import MetricTensor, ChristoffelSymbols, RiemannCurvatureTensor\n"
   ]
  },
  {
   "cell_type": "code",
   "execution_count": 27,
   "metadata": {},
   "outputs": [
    {
     "data": {
      "image/png": "[encoded data removed]",
      "text/latex": [
       "$\\displaystyle \\left[\\begin{matrix}- e^{\\nu} & 0 & 0 & 0\\\\0 & - r^{2} & 0 & 0\\\\0 & 0 & - r^{2} \\sin^{2}{\\left(\\theta \\right)} & 0\\\\0 & 0 & 0 & e^{\\lambda}\\end{matrix}\\right]$"
      ],
      "text/plain": [
       "⎡  ν                      ⎤\n",
       "⎢-ℯ    0        0       0 ⎥\n",
       "⎢                         ⎥\n",
       "⎢       2                 ⎥\n",
       "⎢ 0   -r        0       0 ⎥\n",
       "⎢                         ⎥\n",
       "⎢            2    2       ⎥\n",
       "⎢ 0    0   -r ⋅sin (θ)  0 ⎥\n",
       "⎢                         ⎥\n",
       "⎢                        λ⎥\n",
       "⎣ 0    0        0       ℯ ⎦"
      ]
     },
     "execution_count": 27,
     "metadata": {},
     "output_type": "execute_result"
    }
   ],
   "source": [
    "\n",
    "syms = sympy.symbols('r theta lambda nu')\n",
    "# define the metric for 3d spherical coordinates\n",
    "metric = [[0 for i in range(4)] for i in range(4)]\n",
    "metric[0][0] = -sympy.exp(syms[3])\n",
    "metric[1][1] = -syms[0]**2\n",
    "metric[2][2] = -syms[0]**2 * sympy.sin(syms[1])**2\n",
    "metric[3][3] = sympy.exp(syms[2])\n",
    "# creating metric object\n",
    "m_obj = MetricTensor(metric, syms)\n",
    "m_obj.tensor()\n"
   ]
  },
  {
   "cell_type": "code",
   "execution_count": 29,
   "metadata": {},
   "outputs": [
    {
     "data": {
      "image/png": "[encoded data removed]",
      "text/latex": [
       "$\\displaystyle \\left[\\begin{matrix}\\left[\\begin{matrix}0 & 0 & 0 & \\frac{1}{2}\\\\0 & - r e^{- \\nu} & 0 & 0\\\\0 & 0 & - r e^{- \\nu} \\sin^{2}{\\left(\\theta \\right)} & 0\\\\\\frac{1}{2} & 0 & 0 & 0\\end{matrix}\\right] & \\left[\\begin{matrix}0 & \\frac{1}{r} & 0 & 0\\\\\\frac{1}{r} & 0 & 0 & 0\\\\0 & 0 & - \\sin{\\left(\\theta \\right)} \\cos{\\left(\\theta \\right)} & 0\\\\0 & 0 & 0 & 0\\end{matrix}\\right] & \\left[\\begin{matrix}0 & 0 & \\frac{1}{r} & 0\\\\0 & 0 & \\frac{\\cos{\\left(\\theta \\right)}}{\\sin{\\left(\\theta \\right)}} & 0\\\\\\frac{1}{r} & \\frac{\\cos{\\left(\\theta \\right)}}{\\sin{\\left(\\theta \\right)}} & 0 & 0\\\\0 & 0 & 0 & \\frac{e^{\\lambda}}{2 r^{2} \\sin^{2}{\\left(\\theta \\right)}}\\end{matrix}\\right] & \\left[\\begin{matrix}\\frac{e^{- \\lambda} e^{\\nu}}{2} & 0 & 0 & 0\\\\0 & 0 & 0 & 0\\\\0 & 0 & 0 & \\frac{1}{2}\\\\0 & 0 & \\frac{1}{2} & 0\\end{matrix}\\right]\\end{matrix}\\right]$"
      ],
      "text/plain": [
       "⎡                                                               ⎡             \n",
       "⎢                                                               ⎢0    0       \n",
       "⎢                                                               ⎢             \n",
       "⎢                                    ⎡   1                   ⎤  ⎢             \n",
       "⎢⎡ 0     0           0         1/2⎤  ⎢0  ─        0         0⎥  ⎢           co\n",
       "⎢⎢                                ⎥  ⎢   r                   ⎥  ⎢0    0     ──\n",
       "⎢⎢         -ν                     ⎥  ⎢                       ⎥  ⎢           si\n",
       "⎢⎢ 0   -r⋅ℯ          0          0 ⎥  ⎢1                      ⎥  ⎢             \n",
       "⎢⎢                                ⎥  ⎢─  0        0         0⎥  ⎢1  cos(θ)    \n",
       "⎢⎢                 -ν    2        ⎥  ⎢r                      ⎥  ⎢─  ──────    \n",
       "⎢⎢ 0     0     -r⋅ℯ  ⋅sin (θ)   0 ⎥  ⎢                       ⎥  ⎢r  sin(θ)    \n",
       "⎢⎢                                ⎥  ⎢0  0  -sin(θ)⋅cos(θ)  0⎥  ⎢             \n",
       "⎢⎣1/2    0           0          0 ⎦  ⎢                       ⎥  ⎢             \n",
       "⎢                                    ⎣0  0        0         0⎦  ⎢             \n",
       "⎢                                                               ⎢0    0       \n",
       "⎢                                                               ⎢             \n",
       "⎣                                                               ⎣             \n",
       "\n",
       "1                 ⎤                       ⎤\n",
       "─          0      ⎥                       ⎥\n",
       "r                 ⎥                       ⎥\n",
       "                  ⎥  ⎡ -λ  ν             ⎤⎥\n",
       "s(θ)              ⎥  ⎢ℯ  ⋅ℯ              ⎥⎥\n",
       "────       0      ⎥  ⎢──────  0   0    0 ⎥⎥\n",
       "n(θ)              ⎥  ⎢  2                ⎥⎥\n",
       "                  ⎥  ⎢                   ⎥⎥\n",
       "                  ⎥  ⎢  0     0   0    0 ⎥⎥\n",
       "0          0      ⎥  ⎢                   ⎥⎥\n",
       "                  ⎥  ⎢  0     0   0   1/2⎥⎥\n",
       "                  ⎥  ⎢                   ⎥⎥\n",
       "            λ     ⎥  ⎣  0     0  1/2   0 ⎦⎥\n",
       "           ℯ      ⎥                       ⎥\n",
       "0     ────────────⎥                       ⎥\n",
       "         2    2   ⎥                       ⎥\n",
       "      2⋅r ⋅sin (θ)⎦                       ⎦"
      ]
     },
     "execution_count": 29,
     "metadata": {},
     "output_type": "execute_result"
    }
   ],
   "source": [
    "christ = ChristoffelSymbols.from_metric(m_obj)\n",
    "christ.tensor()"
   ]
  }
 ],
 "metadata": {
  "kernelspec": {
   "display_name": "Python 3",
   "language": "python",
   "name": "python3"
  },
  "language_info": {
   "codemirror_mode": {
    "name": "ipython",
    "version": 3
   },
   "file_extension": ".py",
   "mimetype": "text/x-python",
   "name": "python",
   "nbconvert_exporter": "python",
   "pygments_lexer": "ipython3",
   "version": "3.11.0"
  },
  "orig_nbformat": 4
 },
 "nbformat": 4,
 "nbformat_minor": 2
}
